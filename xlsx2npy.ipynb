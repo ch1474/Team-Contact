{
 "cells": [
  {
   "cell_type": "code",
   "execution_count": null,
   "metadata": {},
   "outputs": [],
   "source": [
    "# used this cmd to export all of the files \n",
    "\n",
    "# .\\mvn_studio64.exe --batch --reprocess --inputpath=\"C:\\Users\\Cameron\\Downloads\\Case Study Kit\\Case Study Kit\\files\" --outputpath=\"C:\\Users\\Cameron\\Downloads\\Case Study Kit\\Case Study Kit\\export\" --exporter=xlsx"
   ]
  },
  {
   "cell_type": "code",
   "execution_count": 2,
   "metadata": {},
   "outputs": [],
   "source": [
    "import pandas as pd \n",
    "from pathlib import Path \n",
    "from tqdm import tqdm\n",
    "import itertools\n",
    "from multiprocessing import Pool"
   ]
  },
  {
   "cell_type": "code",
   "execution_count": 76,
   "metadata": {},
   "outputs": [],
   "source": [
    "# This should just be a case of reading each sheet from the file path and saving it as a numpy.\n",
    "# We want to create a new folder for each spread_sheet and inside contain the file. \n",
    "\n",
    "def export_sheet(filepath, sheet_name, output_folder):\n",
    "\n",
    "    parent = output_folder  / Path(filepath.stem)\n",
    "\n",
    "    parent.mkdir(parents=True, exist_ok=True)\n",
    "\n",
    "    data_df = pd.read_excel(filepath, sheet_name=sheet_name)\n",
    "\n",
    "    data_df.to_pickle(parent / Path(sheet_name).with_suffix(\".pkl\"))\n",
    "    data_df.to_hdf(parent / Path(sheet_name).with_suffix(\".h5\"), key='df')\n"
   ]
  },
  {
   "cell_type": "code",
   "execution_count": 77,
   "metadata": {},
   "outputs": [],
   "source": [
    "input_folder = Path(\"xsens_export\")\n",
    "file_names = [input_folder.rglob(\"*.xlsx\")]\n",
    "sheet_names = [\"Segment Orientation - Quat\", \"Segment Orientation - Euler\", \"Segment Position\", \"Segment Velocity\", \"Segment Acceleration\", \"Segment Angular Velocity\", \"Segment Angular Acceleration\", \"Joint Angles ZXY\", \"Joint Angles XZY\", \"Ergonomic Joint Angles ZXY\", \"Ergonomic Joint Angles XZY\", \"Center of Mass\", \"Sensor Free Acceleration\", \"Sensor Magnetic Field\", \"Sensor Orientation - Quat\", \"Sensor Orientation - Euler\"]\n",
    "\n",
    "output_folder = Path(\"Export\")\n",
    "\n",
    "values = itertools.product(file_names, sheet_names, [output_folder])"
   ]
  },
  {
   "cell_type": "code",
   "execution_count": 78,
   "metadata": {},
   "outputs": [],
   "source": [
    "with Pool() as pool:\n",
    "        pool.starmap(export_sheet, values)"
   ]
  }
 ],
 "metadata": {
  "interpreter": {
   "hash": "943e22c115f48dd68f18abe4516ac05772957178c3374de64336f94ef4f6adb1"
  },
  "kernelspec": {
   "display_name": "Python 3.8.8 ('base')",
   "language": "python",
   "name": "python3"
  },
  "language_info": {
   "codemirror_mode": {
    "name": "ipython",
    "version": 3
   },
   "file_extension": ".py",
   "mimetype": "text/x-python",
   "name": "python",
   "nbconvert_exporter": "python",
   "pygments_lexer": "ipython3",
   "version": "3.8.8"
  },
  "orig_nbformat": 4
 },
 "nbformat": 4,
 "nbformat_minor": 2
}

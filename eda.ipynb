{
 "cells": [
  {
   "cell_type": "code",
   "execution_count": 45,
   "metadata": {},
   "outputs": [],
   "source": [
    "import pandas as pd \n",
    "from pathlib import Path \n",
    "from tqdm import tqdm"
   ]
  },
  {
   "cell_type": "markdown",
   "metadata": {},
   "source": [
    "To start off with I have exported one of the files to an excel sheet. We need to understand the contents of each recording. How the columns differ in each sheet (represent this with a tree diagram?). Then I would like to export each of these sheets as a numpy file as it takes a long time to load. "
   ]
  },
  {
   "cell_type": "code",
   "execution_count": 46,
   "metadata": {},
   "outputs": [],
   "source": [
    "example_file = Path(\"PD046-OFF_Falling_GDPURS.xlsx\") # Loaded in the example file \n",
    "\n",
    "# pandas requires the sheet name as an argument, otherwise it will load the first one by default. I have gone through the sheet and copied the names to this array. \n",
    "sheet_names = [\"General Information\", \"Segment Orientation - Quat\", \"Segment Orientation - Euler\", \"Segment Position\", \"Segment Velocity\", \"Segment Acceleration\", \"Segment Angular Velocity\", \"Segment Angular Acceleration\", \"Joint Angles ZXY\", \"Joint Angles XZY\", \"Ergonomic Joint Angles ZXY\", \"Ergonomic Joint Angles XZY\", \"Center of Mass\", \"Sensor Free Acceleration\", \"Sensor Magnetic Field\", \"Sensor Orientation - Quat\", \"Sensor Orientation - Euler\"]"
   ]
  },
  {
   "cell_type": "code",
   "execution_count": 58,
   "metadata": {},
   "outputs": [],
   "source": [
    "def columns2md(file_path,sheet_name):\n",
    "\n",
    "    data_df = pd.read_excel(file_path, sheet_name=sheet_name)\n",
    "\n",
    "    split_column_names = pd.DataFrame.from_records((x.split(\" \") for x in data_df.columns))\n",
    "\n",
    "    def add_to_dict(x, dictionary):\n",
    "        if len(x) == 1:\n",
    "            if x[0] not in dictionary.keys():\n",
    "                dictionary[x[0]] = []\n",
    "            return\n",
    "            \n",
    "        if len(x) > 2:\n",
    "            if x[0] not in dictionary.keys():\n",
    "                dictionary[x[0]] = {}\n",
    "            add_to_dict(x[1:], dictionary[x[0]])\n",
    "        else:\n",
    "            if x[0] not in dictionary.keys():\n",
    "                dictionary[x[0]] = []\n",
    "            dictionary[x[0]].append(x[1])\n",
    "            \n",
    "    column_tree = {}\n",
    "    split_column_names.T.apply(lambda x: add_to_dict(x.dropna().values, column_tree))\n",
    "\n",
    "    def write_dict(dictionary, prefix, file):\n",
    "        for name, item in dictionary.items():\n",
    "            file.write(prefix + \"- \" + name + \"\\n\")\n",
    "            if type(item) == dict:\n",
    "                write_dict(item, prefix + \"\\t\", file)\n",
    "            elif len(item) > 0:\n",
    "                file.write(prefix + \"\\t\" + \"- \" + \", \".join(item) + \"\\n\")\n",
    "\n",
    "    with open(sheet_name + \".md\", 'w') as f:\n",
    "        f.write(\"# \" + sheet_name + \"\\n\")\n",
    "        write_dict(column_tree, \"\", f)"
   ]
  },
  {
   "cell_type": "code",
   "execution_count": 62,
   "metadata": {},
   "outputs": [
    {
     "ename": "AttributeError",
     "evalue": "'dict' object has no attribute 'append'",
     "output_type": "error",
     "traceback": [
      "\u001b[0;31m---------------------------------------------------------------------------\u001b[0m",
      "\u001b[0;31mRemoteTraceback\u001b[0m                           Traceback (most recent call last)",
      "\u001b[0;31mRemoteTraceback\u001b[0m: \n\"\"\"\nTraceback (most recent call last):\n  File \"/home/cameron/anaconda3/lib/python3.8/multiprocessing/pool.py\", line 125, in worker\n    result = (True, func(*args, **kwds))\n  File \"/home/cameron/anaconda3/lib/python3.8/multiprocessing/pool.py\", line 51, in starmapstar\n    return list(itertools.starmap(args[0], args[1]))\n  File \"<ipython-input-58-2c08cc70ddea>\", line 23, in columns2md\n    split_column_names.T.apply(lambda x: add_to_dict(x.dropna().values, column_tree))\n  File \"/home/cameron/anaconda3/lib/python3.8/site-packages/pandas/core/frame.py\", line 7768, in apply\n    return op.get_result()\n  File \"/home/cameron/anaconda3/lib/python3.8/site-packages/pandas/core/apply.py\", line 185, in get_result\n    return self.apply_standard()\n  File \"/home/cameron/anaconda3/lib/python3.8/site-packages/pandas/core/apply.py\", line 276, in apply_standard\n    results, res_index = self.apply_series_generator()\n  File \"/home/cameron/anaconda3/lib/python3.8/site-packages/pandas/core/apply.py\", line 290, in apply_series_generator\n    results[i] = self.f(v)\n  File \"<ipython-input-58-2c08cc70ddea>\", line 23, in <lambda>\n    split_column_names.T.apply(lambda x: add_to_dict(x.dropna().values, column_tree))\n  File \"<ipython-input-58-2c08cc70ddea>\", line 20, in add_to_dict\n    dictionary[x[0]].append(x[1])\nAttributeError: 'dict' object has no attribute 'append'\n\"\"\"",
      "\nThe above exception was the direct cause of the following exception:\n",
      "\u001b[0;31mAttributeError\u001b[0m                            Traceback (most recent call last)",
      "\u001b[0;32m<ipython-input-62-8e10915a2fae>\u001b[0m in \u001b[0;36m<module>\u001b[0;34m\u001b[0m\n\u001b[1;32m      2\u001b[0m \u001b[0;34m\u001b[0m\u001b[0m\n\u001b[1;32m      3\u001b[0m \u001b[0;32mwith\u001b[0m \u001b[0mPool\u001b[0m\u001b[0;34m(\u001b[0m\u001b[0;34m)\u001b[0m \u001b[0;32mas\u001b[0m \u001b[0mpool\u001b[0m\u001b[0;34m:\u001b[0m\u001b[0;34m\u001b[0m\u001b[0;34m\u001b[0m\u001b[0m\n\u001b[0;32m----> 4\u001b[0;31m         \u001b[0mpool\u001b[0m\u001b[0;34m.\u001b[0m\u001b[0mstarmap\u001b[0m\u001b[0;34m(\u001b[0m\u001b[0mcolumns2md\u001b[0m\u001b[0;34m,\u001b[0m \u001b[0mvalues\u001b[0m\u001b[0;34m)\u001b[0m\u001b[0;34m\u001b[0m\u001b[0;34m\u001b[0m\u001b[0m\n\u001b[0m",
      "\u001b[0;32m~/anaconda3/lib/python3.8/multiprocessing/pool.py\u001b[0m in \u001b[0;36mstarmap\u001b[0;34m(self, func, iterable, chunksize)\u001b[0m\n\u001b[1;32m    370\u001b[0m         \u001b[0;31m`\u001b[0m\u001b[0mfunc\u001b[0m\u001b[0;31m`\u001b[0m \u001b[0;32mand\u001b[0m \u001b[0;34m(\u001b[0m\u001b[0ma\u001b[0m\u001b[0;34m,\u001b[0m \u001b[0mb\u001b[0m\u001b[0;34m)\u001b[0m \u001b[0mbecomes\u001b[0m \u001b[0mfunc\u001b[0m\u001b[0;34m(\u001b[0m\u001b[0ma\u001b[0m\u001b[0;34m,\u001b[0m \u001b[0mb\u001b[0m\u001b[0;34m)\u001b[0m\u001b[0;34m.\u001b[0m\u001b[0;34m\u001b[0m\u001b[0;34m\u001b[0m\u001b[0m\n\u001b[1;32m    371\u001b[0m         '''\n\u001b[0;32m--> 372\u001b[0;31m         \u001b[0;32mreturn\u001b[0m \u001b[0mself\u001b[0m\u001b[0;34m.\u001b[0m\u001b[0m_map_async\u001b[0m\u001b[0;34m(\u001b[0m\u001b[0mfunc\u001b[0m\u001b[0;34m,\u001b[0m \u001b[0miterable\u001b[0m\u001b[0;34m,\u001b[0m \u001b[0mstarmapstar\u001b[0m\u001b[0;34m,\u001b[0m \u001b[0mchunksize\u001b[0m\u001b[0;34m)\u001b[0m\u001b[0;34m.\u001b[0m\u001b[0mget\u001b[0m\u001b[0;34m(\u001b[0m\u001b[0;34m)\u001b[0m\u001b[0;34m\u001b[0m\u001b[0;34m\u001b[0m\u001b[0m\n\u001b[0m\u001b[1;32m    373\u001b[0m \u001b[0;34m\u001b[0m\u001b[0m\n\u001b[1;32m    374\u001b[0m     def starmap_async(self, func, iterable, chunksize=None, callback=None,\n",
      "\u001b[0;32m~/anaconda3/lib/python3.8/multiprocessing/pool.py\u001b[0m in \u001b[0;36mget\u001b[0;34m(self, timeout)\u001b[0m\n\u001b[1;32m    769\u001b[0m             \u001b[0;32mreturn\u001b[0m \u001b[0mself\u001b[0m\u001b[0;34m.\u001b[0m\u001b[0m_value\u001b[0m\u001b[0;34m\u001b[0m\u001b[0;34m\u001b[0m\u001b[0m\n\u001b[1;32m    770\u001b[0m         \u001b[0;32melse\u001b[0m\u001b[0;34m:\u001b[0m\u001b[0;34m\u001b[0m\u001b[0;34m\u001b[0m\u001b[0m\n\u001b[0;32m--> 771\u001b[0;31m             \u001b[0;32mraise\u001b[0m \u001b[0mself\u001b[0m\u001b[0;34m.\u001b[0m\u001b[0m_value\u001b[0m\u001b[0;34m\u001b[0m\u001b[0;34m\u001b[0m\u001b[0m\n\u001b[0m\u001b[1;32m    772\u001b[0m \u001b[0;34m\u001b[0m\u001b[0m\n\u001b[1;32m    773\u001b[0m     \u001b[0;32mdef\u001b[0m \u001b[0m_set\u001b[0m\u001b[0;34m(\u001b[0m\u001b[0mself\u001b[0m\u001b[0;34m,\u001b[0m \u001b[0mi\u001b[0m\u001b[0;34m,\u001b[0m \u001b[0mobj\u001b[0m\u001b[0;34m)\u001b[0m\u001b[0;34m:\u001b[0m\u001b[0;34m\u001b[0m\u001b[0;34m\u001b[0m\u001b[0m\n",
      "\u001b[0;31mAttributeError\u001b[0m: 'dict' object has no attribute 'append'"
     ]
    }
   ],
   "source": [
    "from multiprocessing import Pool\n",
    "\n",
    "values = ((example_file, x) for x in sheet_names)\n",
    "\n",
    "with Pool() as pool:\n",
    "        pool.starmap(columns2md, values)"
   ]
  }
 ],
 "metadata": {
  "interpreter": {
   "hash": "943e22c115f48dd68f18abe4516ac05772957178c3374de64336f94ef4f6adb1"
  },
  "kernelspec": {
   "display_name": "Python 3.8.8 ('base')",
   "language": "python",
   "name": "python3"
  },
  "language_info": {
   "codemirror_mode": {
    "name": "ipython",
    "version": 3
   },
   "file_extension": ".py",
   "mimetype": "text/x-python",
   "name": "python",
   "nbconvert_exporter": "python",
   "pygments_lexer": "ipython3",
   "version": "3.8.8"
  },
  "orig_nbformat": 4
 },
 "nbformat": 4,
 "nbformat_minor": 2
}

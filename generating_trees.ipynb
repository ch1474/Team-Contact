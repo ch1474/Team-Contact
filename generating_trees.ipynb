{
 "cells": [
  {
   "cell_type": "markdown",
   "metadata": {},
   "source": [
    "# Generating tree diagrams of columns \n",
    "\n",
    "We need to understand the contents of each recording, due to the number of columns in each sheet exported by XSENS MVN, it is best to represent this as a tree. "
   ]
  },
  {
   "cell_type": "code",
   "execution_count": 12,
   "metadata": {},
   "outputs": [],
   "source": [
    "import pandas as pd \n",
    "from pathlib import Path \n",
    "from tqdm import tqdm\n",
    "from multiprocessing import Pool"
   ]
  },
  {
   "cell_type": "code",
   "execution_count": 13,
   "metadata": {},
   "outputs": [],
   "source": [
    "example_file = Path(\"PD046-OFF_Falling_GDPURS.xlsx\") # Loaded in the example file \n",
    "\n",
    "# pandas requires the sheet name as an argument, otherwise it will load the first one by default. I have gone through the sheet and copied the names to this array. \n",
    "sheet_names = [\"General Information\", \"Segment Orientation - Quat\", \"Segment Orientation - Euler\", \"Segment Position\", \"Segment Velocity\", \"Segment Acceleration\", \"Segment Angular Velocity\", \"Segment Angular Acceleration\", \"Joint Angles ZXY\", \"Joint Angles XZY\", \"Ergonomic Joint Angles ZXY\", \"Ergonomic Joint Angles XZY\", \"Center of Mass\", \"Sensor Free Acceleration\", \"Sensor Magnetic Field\", \"Sensor Orientation - Quat\", \"Sensor Orientation - Euler\"]"
   ]
  },
  {
   "cell_type": "code",
   "execution_count": 21,
   "metadata": {},
   "outputs": [],
   "source": [
    "sheet_name = sheet_names[2]\n",
    "\n",
    "data_df = pd.read_excel(example_file, sheet_name=sheet_name)"
   ]
  },
  {
   "cell_type": "code",
   "execution_count": 39,
   "metadata": {},
   "outputs": [],
   "source": [
    "# This function may not be handling some of the sheets correctly (Joint Angles)\n",
    "\n",
    "def columns2md(file_path,sheet_name):\n",
    "\n",
    "    data_df = pd.read_excel(file_path, sheet_name=sheet_name)\n",
    "\n",
    "    split_column_names = pd.DataFrame.from_records((x.split(\" \") for x in data_df.columns))\n",
    "\n",
    "    def add_to_dict(x, dictionary):\n",
    "        if len(x) == 1:\n",
    "            if x[0] not in dictionary.keys():\n",
    "                dictionary[x[0]] = []    \n",
    "        elif len(x) > 2:\n",
    "            if type(dictionary) == dict:\n",
    "                if x[0] not in dictionary.keys():\n",
    "                    dictionary[x[0]] = {}\n",
    "                add_to_dict(x[1:], dictionary[x[0]])\n",
    "        else:\n",
    "            if type(dictionary) == dict:\n",
    "                if x[0] not in dictionary.keys():\n",
    "                    dictionary[x[0]] = []\n",
    "\n",
    "                if type(dictionary[x[0]]) == list:\n",
    "                    dictionary[x[0]].append(x[1])\n",
    "            \n",
    "    column_tree = {}\n",
    "\n",
    "    split_column_names.T.apply(lambda x: add_to_dict(x.dropna().values, column_tree))\n",
    "\n",
    "    def write_dict(dictionary, prefix, file):\n",
    "        for name, item in dictionary.items():\n",
    "            file.write(prefix + \"- \" + name + \"\\n\")\n",
    "            if type(item) == dict:\n",
    "                write_dict(item, prefix + \"\\t\", file)\n",
    "            elif len(item) > 0:\n",
    "                file.write(prefix + \"\\t\" + \"- \" + \", \".join(item) + \"\\n\")\n",
    "\n",
    "    with open(sheet_name + \".md\", 'w') as f:\n",
    "        f.write(\"# \" + sheet_name + \"\\n\")\n",
    "        write_dict(column_tree, \"\", f)"
   ]
  },
  {
   "cell_type": "code",
   "execution_count": 40,
   "metadata": {},
   "outputs": [],
   "source": [
    "values = ((example_file, x) for x in sheet_names)\n",
    "\n",
    "with Pool() as pool:\n",
    "        pool.starmap(columns2md, values)"
   ]
  }
 ],
 "metadata": {
  "interpreter": {
   "hash": "943e22c115f48dd68f18abe4516ac05772957178c3374de64336f94ef4f6adb1"
  },
  "kernelspec": {
   "display_name": "Python 3.8.8 ('base')",
   "language": "python",
   "name": "python3"
  },
  "language_info": {
   "codemirror_mode": {
    "name": "ipython",
    "version": 3
   },
   "file_extension": ".py",
   "mimetype": "text/x-python",
   "name": "python",
   "nbconvert_exporter": "python",
   "pygments_lexer": "ipython3",
   "version": "3.8.8"
  },
  "orig_nbformat": 4
 },
 "nbformat": 4,
 "nbformat_minor": 2
}
